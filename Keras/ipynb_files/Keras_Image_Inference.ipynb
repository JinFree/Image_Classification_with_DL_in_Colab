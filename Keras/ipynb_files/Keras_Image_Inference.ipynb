{
  "nbformat": 4,
  "nbformat_minor": 0,
  "metadata": {
    "colab": {
      "name": "Keras_Image_Inference.ipynb",
      "provenance": [],
      "collapsed_sections": []
    },
    "kernelspec": {
      "name": "python3",
      "display_name": "Python 3"
    },
    "accelerator": "GPU"
  },
  "cells": [
    {
      "cell_type": "code",
      "metadata": {
        "id": "AqepX7sZw-io",
        "colab_type": "code",
        "colab": {}
      },
      "source": [
        "from keras.models import load_model\n",
        "from keras.models import model_from_json\n",
        "import json\n",
        "\n",
        "def restoreModel(model_str):\n",
        "    with open(model_str + \".json\", \"r\") as f:\n",
        "        model_json = json.load(f)\n",
        "\n",
        "    model_restored = model_from_json(model_json)\n",
        "    model_restored.load_weights(model_str + \".h5\")\n",
        "    model_restored.summary()\n",
        "    return model_restored"
      ],
      "execution_count": 0,
      "outputs": []
    },
    {
      "cell_type": "code",
      "metadata": {
        "id": "rSo0Txn6wNjY",
        "colab_type": "code",
        "colab": {}
      },
      "source": [
        "import cv2\n",
        "import numpy as np\n",
        "\n",
        "def load_label_map(textFile):\n",
        "    return np.loadtxt(textFile, str, delimiter='\\t')\n",
        "    \n",
        "def cv_image_read(image_path):\n",
        "    print(image_path)\n",
        "    return cv2.imread(image_path)\n",
        "\n",
        "def print_result(inference_result, class_map):\n",
        "    class_text = class_map[np.argmax(inference_result)]\n",
        "    print(inference_result)\n",
        "    print(class_text)\n",
        "\n",
        "def inference_image(opencv_image, model, size = (224, 224)):\n",
        "    image = cv2.resize(opencv_image, size)\n",
        "    image = cv2.cvtColor(image, cv2.COLOR_BGR2RGB)\n",
        "    image_tensor = np.expand_dims(image, axis=0)\n",
        "    result = model.predict(image_tensor)\n",
        "    return result"
      ],
      "execution_count": 0,
      "outputs": []
    },
    {
      "cell_type": "code",
      "metadata": {
        "id": "SAyI4q7NwuMJ",
        "colab_type": "code",
        "colab": {}
      },
      "source": [
        "def main(image_path):\n",
        "    img_width, img_height = 224, 224\n",
        "    class_map = load_label_map('label_map.txt')\n",
        "    num_classes = len(class_map)\n",
        "\n",
        "    model_str = \"keras_Classification_Model\"\n",
        "    model = restoreModel(model_str)\n",
        "\n",
        "    opencv_image = cv_image_read(image_path)\n",
        "    inference_result = inference_image(opencv_image, model, (img_width, img_height))\n",
        "    print_result(inference_result, class_map)"
      ],
      "execution_count": 0,
      "outputs": []
    },
    {
      "cell_type": "code",
      "metadata": {
        "id": "YfpEVQcavv5u",
        "colab_type": "code",
        "colab": {}
      },
      "source": [
        "!wget https://storage.googleapis.com/mledu-datasets/cats_and_dogs_filtered.zip\n",
        "!unzip -qq cats_and_dogs_filtered.zip"
      ],
      "execution_count": 0,
      "outputs": []
    },
    {
      "cell_type": "code",
      "metadata": {
        "id": "COO857spwJ9P",
        "colab_type": "code",
        "colab": {}
      },
      "source": [
        "import os\n",
        "PATH = \"/content/cats_and_dogs_filtered/validation\"\n",
        "validation_cats_dir = PATH + '/cats'  # directory with our validation cat pictures\n",
        "validation_dogs_dir = PATH + '/dogs'  # directory with our validation dog pictures\n",
        "list_of_test_cats_images = os.listdir(validation_cats_dir)\n",
        "list_of_test_dogs_images = os.listdir(validation_dogs_dir)\n",
        "for idx in range(len(list_of_test_cats_images)):\n",
        "    list_of_test_cats_images[idx] = validation_cats_dir + '/'+list_of_test_cats_images[idx]\n",
        "for idx in range(len(list_of_test_dogs_images)):\n",
        "    list_of_test_dogs_images[idx] = validation_dogs_dir + '/'+list_of_test_dogs_images[idx]\n",
        "list_of_test_images = list_of_test_cats_images + list_of_test_dogs_images"
      ],
      "execution_count": 0,
      "outputs": []
    },
    {
      "cell_type": "code",
      "metadata": {
        "id": "GBWI-Cd_wzPY",
        "colab_type": "code",
        "colab": {}
      },
      "source": [
        "main(list_of_test_images[500])"
      ],
      "execution_count": 0,
      "outputs": []
    },
    {
      "cell_type": "code",
      "metadata": {
        "id": "X9IT_Ty2zC_d",
        "colab_type": "code",
        "colab": {}
      },
      "source": [
        ""
      ],
      "execution_count": 0,
      "outputs": []
    }
  ]
}