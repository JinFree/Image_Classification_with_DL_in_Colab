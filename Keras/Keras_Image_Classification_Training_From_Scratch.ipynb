{
  "nbformat": 4,
  "nbformat_minor": 0,
  "metadata": {
    "colab": {
      "name": "Keras_Image_Classification_Training_From_Scratch.ipynb",
      "provenance": [],
      "collapsed_sections": []
    },
    "kernelspec": {
      "name": "python3",
      "display_name": "Python 3"
    },
    "accelerator": "GPU"
  },
  "cells": [
    {
      "cell_type": "code",
      "metadata": {
        "id": "Y9Iy1V0ReQ9I",
        "colab_type": "code",
        "colab": {}
      },
      "source": [
        "!wget https://storage.googleapis.com/mledu-datasets/cats_and_dogs_filtered.zip\n",
        "!unzip -qq cats_and_dogs_filtered.zip"
      ],
      "execution_count": 0,
      "outputs": []
    },
    {
      "cell_type": "code",
      "metadata": {
        "id": "agV_P3MbeSsR",
        "colab_type": "code",
        "colab": {}
      },
      "source": [
        "import keras\n",
        "from keras.models import Sequential \n",
        "from keras.layers import Conv2D, MaxPooling2D , BatchNormalization, GlobalAveragePooling2D\n",
        "from keras.layers import Activation, Dropout, Flatten, Dense \n",
        "from keras import backend as K \n",
        "\n",
        "def MODEL(img_width, img_height, num_classes):\n",
        "    if K.image_data_format() == 'channels_first': \n",
        "        input_shape = (3, img_width, img_height) \n",
        "    else: \n",
        "        input_shape = (img_width, img_height, 3) \n",
        "  \n",
        "    model = Sequential() \n",
        "    model.add(Conv2D(32, (3, 2), input_shape = input_shape)) \n",
        "    model.add(BatchNormalization())\n",
        "    model.add(Activation('relu')) \n",
        "    \n",
        "    model.add(Conv2D(64, (3, 2)))\n",
        "    model.add(BatchNormalization())\n",
        "    model.add(Activation('relu')) \n",
        "    \n",
        "    model.add(Conv2D(128, (3, 2)))\n",
        "    model.add(BatchNormalization())\n",
        "    model.add(Activation('relu')) \n",
        "\n",
        "    model.add(GlobalAveragePooling2D()) \n",
        "    \n",
        "    model.add(Dense(64)) \n",
        "    model.add(Activation('relu')) \n",
        "    model.add(Dropout(0.5)) \n",
        "    model.add(Dense(num_classes)) \n",
        "    model.add(Activation('sigmoid')) \n",
        "    return model"
      ],
      "execution_count": 0,
      "outputs": []
    },
    {
      "cell_type": "code",
      "metadata": {
        "id": "jfrqQECwe-sB",
        "colab_type": "code",
        "colab": {}
      },
      "source": [
        "import os\n",
        "import tensorflow as tf\n",
        "import keras\n",
        "import json\n",
        "from keras.preprocessing.image import ImageDataGenerator \n",
        "from keras import optimizers\n",
        "\n",
        "def main():\n",
        "    img_width, img_height = 224, 224\n",
        "    EPOCHS     = 50\n",
        "    BATCH_SIZE = 16\n",
        "\n",
        "    train_datagen = ImageDataGenerator( rescale = 1. / 255, rotation_range = 15) \n",
        "    test_datagen = ImageDataGenerator( rescale = 1. / 255 )\n",
        "\n",
        "    train_data_dir = '/content/cats_and_dogs_filtered/train'\n",
        "    validation_data_dir = '/content/cats_and_dogs_filtered/validation'\n",
        "\n",
        "    label_list = os.listdir(train_data_dir)\n",
        "    label_list.sort() \n",
        "\n",
        "    train_generator = train_datagen.flow_from_directory(\n",
        "        train_data_dir\n",
        "        , target_size = (img_width, img_height)\n",
        "        , shuffle = True\n",
        "        , batch_size = BATCH_SIZE\n",
        "        , classes = label_list\n",
        "        , class_mode ='categorical') \n",
        "\n",
        "    validation_generator = test_datagen.flow_from_directory( \n",
        "        validation_data_dir\n",
        "        , target_size = (img_width, img_height)\n",
        "        , shuffle = True\n",
        "        , batch_size = BATCH_SIZE\n",
        "        , classes = label_list\n",
        "        , class_mode ='categorical') \n",
        "\n",
        "    f = open(\"label_map.txt\", 'w')\n",
        "    for i in range(len(label_list)):\n",
        "        f.write(label_list[i]+'\\n')\n",
        "    f.close()    \n",
        "    num_classes = len(label_list)\n",
        "\n",
        "    model = MODEL(img_width, img_height, num_classes)\n",
        "    model_str = \"keras_Classification_Model\"\n",
        "\n",
        "    optimizer = optimizers.Adam(lr=0.0001)\n",
        "    model.compile(optimizer = optimizer\n",
        "                , loss = 'categorical_crossentropy'\n",
        "                , metrics = ['accuracy'])\n",
        "\n",
        "\n",
        "    model.fit_generator(generator = train_generator\n",
        "                        , steps_per_epoch = train_generator.n//train_generator.batch_size\n",
        "                        , epochs = EPOCHS\n",
        "                        , validation_data = validation_generator\n",
        "                        , validation_steps = validation_generator.n//validation_generator.batch_size)\n",
        "\n",
        "\n",
        "    model_json = model.to_json()\n",
        "    with open(model_str + \".json\", \"w\") as json_file:\n",
        "        json.dump(model_json, json_file)\n",
        "    model.save_weights(model_str + \".h5\") "
      ],
      "execution_count": 0,
      "outputs": []
    },
    {
      "cell_type": "code",
      "metadata": {
        "id": "-ZMVbku3lnnA",
        "colab_type": "code",
        "colab": {}
      },
      "source": [
        "main()"
      ],
      "execution_count": 0,
      "outputs": []
    }
  ]
}