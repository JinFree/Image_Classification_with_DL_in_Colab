{
  "nbformat": 4,
  "nbformat_minor": 0,
  "metadata": {
    "colab": {
      "name": "PyTorch_Image_Inference.ipynb",
      "provenance": [],
      "collapsed_sections": []
    },
    "kernelspec": {
      "name": "python3",
      "display_name": "Python 3"
    },
    "accelerator": "GPU"
  },
  "cells": [
    {
      "cell_type": "code",
      "metadata": {
        "id": "nvSi8wKdMzhh",
        "colab_type": "code",
        "colab": {}
      },
      "source": [
        "!wget https://storage.googleapis.com/mledu-datasets/cats_and_dogs_filtered.zip\n",
        "!unzip -qq cats_and_dogs_filtered.zip"
      ],
      "execution_count": 0,
      "outputs": []
    },
    {
      "cell_type": "code",
      "metadata": {
        "id": "WLx9QNuUdLsr",
        "colab_type": "code",
        "colab": {}
      },
      "source": [
        "import os\n",
        "PATH = \"/content/cats_and_dogs_filtered/validation\"\n",
        "validation_cats_dir = PATH + '/cats'  # directory with our validation cat pictures\n",
        "validation_dogs_dir = PATH + '/dogs'  # directory with our validation dog pictures\n",
        "list_of_test_cats_images = os.listdir(validation_cats_dir)\n",
        "list_of_test_dogs_images = os.listdir(validation_dogs_dir)\n",
        "for idx in range(len(list_of_test_cats_images)):\n",
        "    list_of_test_cats_images[idx] = validation_cats_dir + '/'+list_of_test_cats_images[idx]\n",
        "for idx in range(len(list_of_test_dogs_images)):\n",
        "    list_of_test_dogs_images[idx] = validation_dogs_dir + '/'+list_of_test_dogs_images[idx]\n",
        "list_of_test_images = list_of_test_cats_images + list_of_test_dogs_images"
      ],
      "execution_count": 0,
      "outputs": []
    },
    {
      "cell_type": "code",
      "metadata": {
        "id": "Ub3M3QcFakWd",
        "colab_type": "code",
        "colab": {}
      },
      "source": [
        "import torch\n",
        "from torchvision import models\n",
        "import torch.nn as nn\n",
        "import torch.nn.functional as F\n",
        "\n",
        "class MODEL(nn.Module):\n",
        "    def __init__(self, num_classes):\n",
        "        super().__init__()\n",
        "        self.network = models.mobilenet_v2(pretrained=False)\n",
        "        self.classifier = nn.Sequential(\n",
        "            nn.Dropout()\n",
        "            , nn.Linear(1000, num_classes)\n",
        "            , nn.Sigmoid()\n",
        "        )\n",
        "    def forward(self, x):\n",
        "        x = self.network(x)\n",
        "        return self.classifier(x)"
      ],
      "execution_count": 0,
      "outputs": []
    },
    {
      "cell_type": "code",
      "metadata": {
        "id": "jAeOxDVIatvW",
        "colab_type": "code",
        "colab": {}
      },
      "source": [
        "from PIL import Image\n",
        "import cv2\n",
        "import numpy as np\n",
        "\n",
        "def load_label_map(textFile):\n",
        "    return np.loadtxt(textFile, str, delimiter='\\t')\n",
        "    \n",
        "def cv_image_read(image_path):\n",
        "    print(image_path)\n",
        "    return cv2.imread(image_path)\n",
        "\n",
        "def print_result(inference_result, class_map):\n",
        "    class_text = class_map[np.argmax(inference_result)]\n",
        "    print(inference_result)\n",
        "    print(class_text)\n",
        "\n",
        "def inference_image(opencv_image, transform_info, model, DEVICE):\n",
        "    image = Image.fromarray(opencv_image)\n",
        "    image_tensor = transform_info(image)\n",
        "    image_tensor = image_tensor.unsqueeze(0)\n",
        "    image_tensor = image_tensor.to(DEVICE)\n",
        "    result = model(image_tensor)\n",
        "    return result"
      ],
      "execution_count": 0,
      "outputs": []
    },
    {
      "cell_type": "code",
      "metadata": {
        "id": "OBJR_4PjNrhK",
        "colab_type": "code",
        "colab": {}
      },
      "source": [
        "import os\n",
        "import torch\n",
        "import torchvision\n",
        "import torchvision.transforms as transforms\n",
        "import numpy as np\n",
        "\n",
        "def main(image_path):\n",
        "    USE_CUDA = torch.cuda.is_available()\n",
        "    DEVICE = torch.device(\"cuda\" if USE_CUDA else \"cpu\")\n",
        "\n",
        "    img_width, img_height = 224, 224\n",
        "    transform_info = transforms.Compose([\n",
        "                transforms.Resize(size=(img_width, img_height))\n",
        "                , transforms.ToTensor()\n",
        "                    ])\n",
        "    class_map = load_label_map('label_map.txt')\n",
        "    num_classes = len(class_map)\n",
        "\n",
        "    model = MODEL(num_classes).to(DEVICE)\n",
        "    model_str = \"PyTorch_Classification_Model\"\n",
        "    model_str += \".pt\" \n",
        "\n",
        "    model.load_state_dict(torch.load(model_str))\n",
        "    model.eval()\n",
        "\n",
        "    opencv_image = cv_image_read(image_path)\n",
        "    inference_result = inference_image(opencv_image, transform_info, model, DEVICE)\n",
        "    inference_result = inference_result.cpu().detach().numpy()\n",
        "    print_result(inference_result, class_map)"
      ],
      "execution_count": 0,
      "outputs": []
    },
    {
      "cell_type": "code",
      "metadata": {
        "id": "Lrq_udaHOb5G",
        "colab_type": "code",
        "colab": {}
      },
      "source": [
        "main(list_of_test_images[600])"
      ],
      "execution_count": 0,
      "outputs": []
    }
  ]
}